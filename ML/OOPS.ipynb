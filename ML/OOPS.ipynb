{
 "cells": [
  {
   "cell_type": "code",
   "execution_count": 5,
   "metadata": {},
   "outputs": [],
   "source": [
    "class ClassName:\n",
    "    var = \"This is a class variable\"\n",
    "    def func(self):\n",
    "        print(\"i am inside a class\")"
   ]
  },
  {
   "cell_type": "code",
   "execution_count": 6,
   "metadata": {},
   "outputs": [],
   "source": [
    "obj1 = ClassName()"
   ]
  },
  {
   "cell_type": "code",
   "execution_count": 7,
   "metadata": {},
   "outputs": [
    {
     "data": {
      "text/plain": [
       "'This is a class variable'"
      ]
     },
     "execution_count": 7,
     "metadata": {},
     "output_type": "execute_result"
    }
   ],
   "source": [
    "obj1.var"
   ]
  },
  {
   "cell_type": "code",
   "execution_count": 8,
   "metadata": {},
   "outputs": [
    {
     "name": "stdout",
     "output_type": "stream",
     "text": [
      "i am inside a class\n"
     ]
    }
   ],
   "source": [
    "obj1.func() #self is added in className to remove the error"
   ]
  },
  {
   "cell_type": "code",
   "execution_count": 10,
   "metadata": {},
   "outputs": [
    {
     "name": "stdout",
     "output_type": "stream",
     "text": [
      "This is a class variable \n",
      " This is a updated one\n"
     ]
    }
   ],
   "source": [
    "obj2 = ClassName()\n",
    "obj2.var = \"This is a updated one\"\n",
    "print(obj1.var,\"\\n\",obj2.var)"
   ]
  },
  {
   "cell_type": "code",
   "execution_count": 13,
   "metadata": {},
   "outputs": [],
   "source": [
    "class Student:\n",
    "    def __init__(self,name,branch,year):\n",
    "        self.n = name\n",
    "        self.b = branch\n",
    "        self.y = year\n",
    "    def print_method(self):\n",
    "        print(\"Name :\",self.n)\n",
    "        print(\"Branch :\",self.n)\n",
    "        print(\"Year :\",self.n)"
   ]
  },
  {
   "cell_type": "code",
   "execution_count": 15,
   "metadata": {},
   "outputs": [
    {
     "name": "stdout",
     "output_type": "stream",
     "text": [
      "Name : Paul\n",
      "Branch : Paul\n",
      "Year : Paul\n"
     ]
    }
   ],
   "source": [
    "obj1 = Student(\"Paul\",\"CSE\",\"2019\")\n",
    "obj1.print_method()"
   ]
  },
  {
   "cell_type": "code",
   "execution_count": 16,
   "metadata": {},
   "outputs": [],
   "source": [
    "# Inheritance "
   ]
  },
  {
   "cell_type": "code",
   "execution_count": 17,
   "metadata": {},
   "outputs": [
    {
     "name": "stdout",
     "output_type": "stream",
     "text": [
      "I am the parent class\n",
      "I am citrus and i belong to fruit class\n"
     ]
    }
   ],
   "source": [
    "#Single inheritance\n",
    "class fruit:\n",
    "    def __init__(self):\n",
    "        print(\"I am the parent class\")\n",
    "class citrus(fruit):\n",
    "    def __init__(self):\n",
    "        super().__init__()\n",
    "        print(\"I am citrus and i belong to fruit class\")\n",
    "obj1 = citrus()"
   ]
  },
  {
   "cell_type": "code",
   "execution_count": 39,
   "metadata": {},
   "outputs": [
    {
     "ename": "SyntaxError",
     "evalue": "invalid syntax (<ipython-input-39-af0b2377b7b5>, line 9)",
     "output_type": "error",
     "traceback": [
      "\u001b[0;36m  File \u001b[0;32m\"<ipython-input-39-af0b2377b7b5>\"\u001b[0;36m, line \u001b[0;32m9\u001b[0m\n\u001b[0;31m    class lemon(fruit,citrus)\u001b[0m\n\u001b[0m                             ^\u001b[0m\n\u001b[0;31mSyntaxError\u001b[0m\u001b[0;31m:\u001b[0m invalid syntax\n"
     ]
    }
   ],
   "source": [
    "#Multiple inheritance\n",
    "class fruit:\n",
    "    def __init__(self):\n",
    "        print(\"I am the parent class\")\n",
    "class citrus(fruit):\n",
    "    def __init__(self):\n",
    "        super().__init__()\n",
    "        print(\"I am citrus and i belong to fruit class\")\n",
    "class lemon(fruit,citrus)\n",
    "    def __init__(self):\n",
    "        super().__init__()\n",
    "        print(\"I am lemon and i belong to fruit class\")\n",
    "obj1 = citrus()"
   ]
  },
  {
   "cell_type": "code",
   "execution_count": 24,
   "metadata": {},
   "outputs": [
    {
     "data": {
      "text/plain": [
       "True"
      ]
     },
     "execution_count": 24,
     "metadata": {},
     "output_type": "execute_result"
    }
   ],
   "source": [
    "#Multiple inheritance\n",
    "class A:\n",
    "    pass\n",
    "class B:\n",
    "    pass\n",
    "class C(A,B):\n",
    "    pass\n",
    "issubclass(C,A) and issubclass(C,B)"
   ]
  },
  {
   "cell_type": "code",
   "execution_count": 62,
   "metadata": {},
   "outputs": [
    {
     "ename": "SyntaxError",
     "evalue": "invalid syntax (<ipython-input-62-78d6eb7a7c81>, line 9)",
     "output_type": "error",
     "traceback": [
      "\u001b[0;36m  File \u001b[0;32m\"<ipython-input-62-78d6eb7a7c81>\"\u001b[0;36m, line \u001b[0;32m9\u001b[0m\n\u001b[0;31m    class lemon(citrus)\u001b[0m\n\u001b[0m                       ^\u001b[0m\n\u001b[0;31mSyntaxError\u001b[0m\u001b[0;31m:\u001b[0m invalid syntax\n"
     ]
    }
   ],
   "source": [
    "#Multilevel inheritance\n",
    "class fruit:\n",
    "    def __init__(self):\n",
    "        print(\"I am the parent class\")\n",
    "class citrus(fruit):\n",
    "    def __init__(self):\n",
    "        super().__init__()\n",
    "        print(\"I am citrus and i belong to fruit class\")\n",
    "class lemon(citrus)\n",
    "    def __init__(self):\n",
    "        super().__init__()\n",
    "        print(\"I am lemon and i belong to fruit class\")\n",
    "obj1 = lemon()"
   ]
  },
  {
   "cell_type": "code",
   "execution_count": 31,
   "metadata": {},
   "outputs": [
    {
     "data": {
      "text/plain": [
       "1"
      ]
     },
     "execution_count": 31,
     "metadata": {},
     "output_type": "execute_result"
    }
   ],
   "source": [
    "class A:\n",
    "    x=1\n",
    "class B(A):\n",
    "    pass\n",
    "class C(B):\n",
    "    pass\n",
    "obj1 = C()\n",
    "obj1.x"
   ]
  },
  {
   "cell_type": "code",
   "execution_count": 32,
   "metadata": {},
   "outputs": [],
   "source": [
    "#Hierarchical Inheritance"
   ]
  },
  {
   "cell_type": "code",
   "execution_count": 33,
   "metadata": {},
   "outputs": [
    {
     "data": {
      "text/plain": [
       "True"
      ]
     },
     "execution_count": 33,
     "metadata": {},
     "output_type": "execute_result"
    }
   ],
   "source": [
    "class A:\n",
    "    x=1\n",
    "class B(A):\n",
    "    pass\n",
    "class C(A):\n",
    "    pass\n",
    "obj1 = C()\n",
    "obj1.x\n",
    "issubclass(B,A) and issubclass(C,A)"
   ]
  },
  {
   "cell_type": "code",
   "execution_count": 35,
   "metadata": {},
   "outputs": [],
   "source": [
    "#Hybrid Inheritance combination of any 2 inheritances"
   ]
  },
  {
   "cell_type": "code",
   "execution_count": 37,
   "metadata": {},
   "outputs": [
    {
     "data": {
      "text/plain": [
       "1"
      ]
     },
     "execution_count": 37,
     "metadata": {},
     "output_type": "execute_result"
    }
   ],
   "source": [
    "class A:\n",
    "    x=1\n",
    "class B(A):\n",
    "    pass\n",
    "class C(A):\n",
    "    pass\n",
    "class D(A):\n",
    "    pass\n",
    "class E(B,D):\n",
    "    pass\n",
    "obj1 = E()\n",
    "obj1.x"
   ]
  },
  {
   "cell_type": "code",
   "execution_count": 41,
   "metadata": {},
   "outputs": [],
   "source": [
    "#Overlaoding"
   ]
  },
  {
   "cell_type": "code",
   "execution_count": 45,
   "metadata": {},
   "outputs": [
    {
     "data": {
      "text/plain": [
       "12"
      ]
     },
     "execution_count": 45,
     "metadata": {},
     "output_type": "execute_result"
    }
   ],
   "source": [
    "def add(a,b):\n",
    "    return a+b\n",
    "def add(a,b,c):\n",
    "    return a+b+c\n",
    "add(2,4,6)"
   ]
  },
  {
   "cell_type": "code",
   "execution_count": 46,
   "metadata": {},
   "outputs": [
    {
     "ename": "TypeError",
     "evalue": "add() missing 1 required positional argument: 'c'",
     "output_type": "error",
     "traceback": [
      "\u001b[0;31m---------------------------------------------------------------------------\u001b[0m",
      "\u001b[0;31mTypeError\u001b[0m                                 Traceback (most recent call last)",
      "\u001b[0;32m<ipython-input-46-f5f171a1664e>\u001b[0m in \u001b[0;36m<module>\u001b[0;34m\u001b[0m\n\u001b[1;32m      3\u001b[0m \u001b[0;32mdef\u001b[0m \u001b[0madd\u001b[0m\u001b[0;34m(\u001b[0m\u001b[0ma\u001b[0m\u001b[0;34m,\u001b[0m\u001b[0mb\u001b[0m\u001b[0;34m,\u001b[0m\u001b[0mc\u001b[0m\u001b[0;34m)\u001b[0m\u001b[0;34m:\u001b[0m\u001b[0;34m\u001b[0m\u001b[0;34m\u001b[0m\u001b[0m\n\u001b[1;32m      4\u001b[0m     \u001b[0;32mreturn\u001b[0m \u001b[0ma\u001b[0m\u001b[0;34m+\u001b[0m\u001b[0mb\u001b[0m\u001b[0;34m+\u001b[0m\u001b[0mc\u001b[0m\u001b[0;34m\u001b[0m\u001b[0;34m\u001b[0m\u001b[0m\n\u001b[0;32m----> 5\u001b[0;31m \u001b[0madd\u001b[0m\u001b[0;34m(\u001b[0m\u001b[0;36m2\u001b[0m\u001b[0;34m,\u001b[0m\u001b[0;36m4\u001b[0m\u001b[0;34m)\u001b[0m\u001b[0;34m\u001b[0m\u001b[0;34m\u001b[0m\u001b[0m\n\u001b[0m",
      "\u001b[0;31mTypeError\u001b[0m: add() missing 1 required positional argument: 'c'"
     ]
    }
   ],
   "source": [
    "def add(a,b):\n",
    "    return a+b\n",
    "def add(a,b,c):\n",
    "    return a+b+c\n",
    "add(2,4)"
   ]
  },
  {
   "cell_type": "code",
   "execution_count": 52,
   "metadata": {},
   "outputs": [
    {
     "data": {
      "text/plain": [
       "9.55"
      ]
     },
     "execution_count": 52,
     "metadata": {},
     "output_type": "execute_result"
    }
   ],
   "source": [
    "def add(instanceOf, *args):\n",
    "    if(instanceOf == 'int'):\n",
    "        result = 0\n",
    "    if(instanceOf == 'str'):\n",
    "        result = ''\n",
    "    if(instanceOf == 'float'):\n",
    "        result = 0.0\n",
    "    for i in args:\n",
    "        result+=i\n",
    "    return result\n",
    "add('int',1,2,3,4,5)\n",
    "add('float',1.0,3.6,4.95)"
   ]
  },
  {
   "cell_type": "code",
   "execution_count": 53,
   "metadata": {},
   "outputs": [],
   "source": [
    "#Overriding"
   ]
  },
  {
   "cell_type": "code",
   "execution_count": 56,
   "metadata": {},
   "outputs": [
    {
     "name": "stdout",
     "output_type": "stream",
     "text": [
      "I am inside B\n",
      "I am inside A\n"
     ]
    }
   ],
   "source": [
    "class A:\n",
    "    def checkit(self):\n",
    "        print(\"I am inside A\")\n",
    "class B:\n",
    "    def checkit(self):\n",
    "        print(\"I am inside B\")\n",
    "obj1 = B()\n",
    "obj2 = A()\n",
    "obj1.checkit()\n",
    "obj2.checkit()"
   ]
  },
  {
   "cell_type": "code",
   "execution_count": 60,
   "metadata": {},
   "outputs": [
    {
     "name": "stdout",
     "output_type": "stream",
     "text": [
      "I am inside A\n",
      "I am inside B\n"
     ]
    }
   ],
   "source": [
    "class A:\n",
    "    def checkit(self):\n",
    "        print(\"I am inside A\")\n",
    "class B(A):\n",
    "    def checkit(self):\n",
    "        print(\"I am inside B\")\n",
    "obj1 = A()\n",
    "obj2 = B()\n",
    "obj1.checkit()\n",
    "obj2.checkit()"
   ]
  },
  {
   "cell_type": "code",
   "execution_count": 61,
   "metadata": {},
   "outputs": [],
   "source": [
    "#Encapsulation"
   ]
  },
  {
   "cell_type": "code",
   "execution_count": 63,
   "metadata": {},
   "outputs": [],
   "source": [
    "#Abstracton + Data hiding"
   ]
  },
  {
   "cell_type": "code",
   "execution_count": 65,
   "metadata": {},
   "outputs": [
    {
     "ename": "AttributeError",
     "evalue": "'Encap' object has no attribute 'b'",
     "output_type": "error",
     "traceback": [
      "\u001b[0;31m---------------------------------------------------------------------------\u001b[0m",
      "\u001b[0;31mAttributeError\u001b[0m                            Traceback (most recent call last)",
      "\u001b[0;32m<ipython-input-65-86c870594992>\u001b[0m in \u001b[0;36m<module>\u001b[0;34m\u001b[0m\n\u001b[1;32m      5\u001b[0m         \u001b[0mself\u001b[0m\u001b[0;34m.\u001b[0m\u001b[0m__c\u001b[0m \u001b[0;34m=\u001b[0m \u001b[0;36m123\u001b[0m\u001b[0;34m\u001b[0m\u001b[0;34m\u001b[0m\u001b[0m\n\u001b[1;32m      6\u001b[0m \u001b[0mobj1\u001b[0m \u001b[0;34m=\u001b[0m \u001b[0mEncap\u001b[0m\u001b[0;34m(\u001b[0m\u001b[0;34m)\u001b[0m\u001b[0;34m\u001b[0m\u001b[0;34m\u001b[0m\u001b[0m\n\u001b[0;32m----> 7\u001b[0;31m \u001b[0mprint\u001b[0m\u001b[0;34m(\u001b[0m\u001b[0mobj1\u001b[0m\u001b[0;34m.\u001b[0m\u001b[0ma\u001b[0m\u001b[0;34m,\u001b[0m\u001b[0mobj1\u001b[0m\u001b[0;34m.\u001b[0m\u001b[0mb\u001b[0m\u001b[0;34m,\u001b[0m\u001b[0mobj1\u001b[0m\u001b[0;34m.\u001b[0m\u001b[0mc\u001b[0m\u001b[0;34m)\u001b[0m\u001b[0;34m\u001b[0m\u001b[0;34m\u001b[0m\u001b[0m\n\u001b[0m",
      "\u001b[0;31mAttributeError\u001b[0m: 'Encap' object has no attribute 'b'"
     ]
    }
   ],
   "source": [
    "class Encap:\n",
    "    def __init__(self):\n",
    "        self.a = 123\n",
    "        self._b = 123\n",
    "        self.__c = 123\n",
    "obj1 = Encap()\n",
    "print(obj1.a,obj1.b,obj1.c)"
   ]
  },
  {
   "cell_type": "code",
   "execution_count": 66,
   "metadata": {},
   "outputs": [
    {
     "ename": "AttributeError",
     "evalue": "'Encap' object has no attribute '__c'",
     "output_type": "error",
     "traceback": [
      "\u001b[0;31m---------------------------------------------------------------------------\u001b[0m",
      "\u001b[0;31mAttributeError\u001b[0m                            Traceback (most recent call last)",
      "\u001b[0;32m<ipython-input-66-53aea9ef67b6>\u001b[0m in \u001b[0;36m<module>\u001b[0;34m\u001b[0m\n\u001b[1;32m      5\u001b[0m         \u001b[0mself\u001b[0m\u001b[0;34m.\u001b[0m\u001b[0m__c\u001b[0m \u001b[0;34m=\u001b[0m \u001b[0;36m123\u001b[0m\u001b[0;34m\u001b[0m\u001b[0;34m\u001b[0m\u001b[0m\n\u001b[1;32m      6\u001b[0m \u001b[0mobj1\u001b[0m \u001b[0;34m=\u001b[0m \u001b[0mEncap\u001b[0m\u001b[0;34m(\u001b[0m\u001b[0;34m)\u001b[0m\u001b[0;34m\u001b[0m\u001b[0;34m\u001b[0m\u001b[0m\n\u001b[0;32m----> 7\u001b[0;31m \u001b[0mprint\u001b[0m\u001b[0;34m(\u001b[0m\u001b[0mobj1\u001b[0m\u001b[0;34m.\u001b[0m\u001b[0ma\u001b[0m\u001b[0;34m,\u001b[0m\u001b[0mobj1\u001b[0m\u001b[0;34m.\u001b[0m\u001b[0m_b\u001b[0m\u001b[0;34m,\u001b[0m\u001b[0mobj1\u001b[0m\u001b[0;34m.\u001b[0m\u001b[0m__c\u001b[0m\u001b[0;34m)\u001b[0m\u001b[0;34m\u001b[0m\u001b[0;34m\u001b[0m\u001b[0m\n\u001b[0m",
      "\u001b[0;31mAttributeError\u001b[0m: 'Encap' object has no attribute '__c'"
     ]
    }
   ],
   "source": [
    "class Encap:\n",
    "    def __init__(self):\n",
    "        self.a = 123\n",
    "        self._b = 123\n",
    "        self.__c = 123\n",
    "obj1 = Encap()\n",
    "print(obj1.a,obj1._b,obj1.__c)"
   ]
  },
  {
   "cell_type": "code",
   "execution_count": 68,
   "metadata": {},
   "outputs": [
    {
     "name": "stdout",
     "output_type": "stream",
     "text": [
      "123 123 123\n"
     ]
    }
   ],
   "source": [
    "class Encap:\n",
    "    def __init__(self):\n",
    "        self.a = 123\n",
    "        self._b = 123\n",
    "        self.__c = 123\n",
    "obj1 = Encap()\n",
    "print(obj1.a,obj1._b,obj1._Encap__c)"
   ]
  },
  {
   "cell_type": "code",
   "execution_count": 69,
   "metadata": {},
   "outputs": [],
   "source": [
    "#Private Method, private variable etc"
   ]
  },
  {
   "cell_type": "code",
   "execution_count": 78,
   "metadata": {},
   "outputs": [],
   "source": [
    "class Car:\n",
    "    __maxspeed = 0\n",
    "    __name = ''\n",
    "    \n",
    "    def __init__(self):\n",
    "        self.__maxspeed = 200\n",
    "        self.name = \"Supercar\"\n",
    "    \n",
    "    def drive(self):\n",
    "        print(\"maxspeed of Car is\",self.__maxspeed)\n",
    "    \n",
    "    def setMaxSpeed(self,speed):\n",
    "        self.__maxspeed = speed\n",
    "        "
   ]
  },
  {
   "cell_type": "code",
   "execution_count": 79,
   "metadata": {},
   "outputs": [
    {
     "name": "stdout",
     "output_type": "stream",
     "text": [
      "maxspeed of Car is 200\n"
     ]
    }
   ],
   "source": [
    "obj1 = Car()\n",
    "obj1.drive()"
   ]
  },
  {
   "cell_type": "code",
   "execution_count": 80,
   "metadata": {},
   "outputs": [
    {
     "name": "stdout",
     "output_type": "stream",
     "text": [
      "maxspeed of Car is 200\n"
     ]
    }
   ],
   "source": [
    "obj1.__maxspeed = 300\n",
    "obj1.drive()   #for this purpose we use a setter method"
   ]
  },
  {
   "cell_type": "code",
   "execution_count": 81,
   "metadata": {},
   "outputs": [
    {
     "name": "stdout",
     "output_type": "stream",
     "text": [
      "maxspeed of Car is 400\n"
     ]
    }
   ],
   "source": [
    "obj1.setMaxSpeed(400)\n",
    "obj1.drive()"
   ]
  },
  {
   "cell_type": "code",
   "execution_count": 82,
   "metadata": {},
   "outputs": [],
   "source": [
    "#polymorphism"
   ]
  },
  {
   "cell_type": "code",
   "execution_count": 89,
   "metadata": {},
   "outputs": [],
   "source": [
    "class Shark():\n",
    "    def swim(self):\n",
    "        print(\"Shark can swim\")\n",
    "    def bones(self):\n",
    "        print(\"shark has soft cartilage\")\n",
    "class Clownfish:        \n",
    "    def swim(self):\n",
    "        print(\"Clownfish can swim\")\n",
    "    def bones(self):\n",
    "        print(\"Clownfishes have bones\")\n"
   ]
  },
  {
   "cell_type": "code",
   "execution_count": 90,
   "metadata": {},
   "outputs": [
    {
     "name": "stdout",
     "output_type": "stream",
     "text": [
      "<bound method Shark.swim of <__main__.Shark object at 0x7f9e38203250>>\n",
      "<bound method Shark.bones of <__main__.Shark object at 0x7f9e38203250>>\n",
      "<bound method Clownfish.swim of <__main__.Clownfish object at 0x7f9e38203b90>>\n",
      "<bound method Clownfish.bones of <__main__.Clownfish object at 0x7f9e38203b90>>\n"
     ]
    }
   ],
   "source": [
    "S1 = Shark()\n",
    "C1 = Clownfish()\n",
    "for fishes in (S1,C1):\n",
    "    print(fishes.swim)\n",
    "    print(fishes.bones)"
   ]
  },
  {
   "cell_type": "code",
   "execution_count": 91,
   "metadata": {},
   "outputs": [],
   "source": [
    "def intheocean(fish):\n",
    "    fish.swim()"
   ]
  },
  {
   "cell_type": "code",
   "execution_count": 92,
   "metadata": {},
   "outputs": [
    {
     "name": "stdout",
     "output_type": "stream",
     "text": [
      "Shark can swim\n",
      "Clownfish can swim\n"
     ]
    }
   ],
   "source": [
    "S1 = Shark()\n",
    "C1 = Clownfish()\n",
    "intheocean(S1)\n",
    "intheocean(C1)"
   ]
  },
  {
   "cell_type": "code",
   "execution_count": null,
   "metadata": {},
   "outputs": [],
   "source": []
  }
 ],
 "metadata": {
  "kernelspec": {
   "display_name": "Python 3",
   "language": "python",
   "name": "python3"
  },
  "language_info": {
   "codemirror_mode": {
    "name": "ipython",
    "version": 3
   },
   "file_extension": ".py",
   "mimetype": "text/x-python",
   "name": "python",
   "nbconvert_exporter": "python",
   "pygments_lexer": "ipython3",
   "version": "3.7.4"
  }
 },
 "nbformat": 4,
 "nbformat_minor": 4
}
