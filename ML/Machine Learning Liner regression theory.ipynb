{
 "cells": [
  {
   "cell_type": "code",
   "execution_count": 1,
   "metadata": {},
   "outputs": [],
   "source": [
    "# ML is the process of training machines with data without explicitely programmed. Dr.Arthur Samuel"
   ]
  },
  {
   "cell_type": "code",
   "execution_count": 2,
   "metadata": {},
   "outputs": [
    {
     "data": {
      "text/plain": [
       "'ham/spam clasification...data of emails\\nweather forecasting   data of pase weather\\nrecommendation system  data os users and movies\\nfacial detection  data of human faces\\nlanguage translation system and many more'"
      ]
     },
     "execution_count": 2,
     "metadata": {},
     "output_type": "execute_result"
    }
   ],
   "source": [
    "'''ham/spam clasification...data of emails\n",
    "weather forecasting   data of pase weather\n",
    "recommendation system  data os users and movies\n",
    "facial detection  data of human faces\n",
    "language translation system and many more''' "
   ]
  },
  {
   "cell_type": "code",
   "execution_count": 3,
   "metadata": {},
   "outputs": [],
   "source": [
    "# data is new oil\" -- Mukesh Ambani\n",
    "# Jio --- Mirror image of oil"
   ]
  },
  {
   "cell_type": "code",
   "execution_count": 4,
   "metadata": {},
   "outputs": [],
   "source": [
    "#if label is present then supervised r else not supervised\n",
    "#what is the data type of the target varibale\n",
    "#If supervised then\n",
    "#continuous: regression.   categorical:classification\n",
    "#if unpervised then ....clustering and dimensionality reduction"
   ]
  },
  {
   "cell_type": "code",
   "execution_count": 6,
   "metadata": {},
   "outputs": [
    {
     "data": {
      "text/plain": [
       "' Regression Analysis:\\n    1.Simple regression\\n    2.least sqare method\\n    3.coefficient of determination\\n    4.testing of the significance or evaluation metrics\\n    5.assumptions of linear regression\\n    6.practical example on a data set '"
      ]
     },
     "execution_count": 6,
     "metadata": {},
     "output_type": "execute_result"
    }
   ],
   "source": [
    "''' Regression Analysis:\n",
    "    1.Simple regression\n",
    "    2.least sqare method\n",
    "    3.coefficient of determination\n",
    "    4.testing of the significance or evaluation metrics\n",
    "    5.assumptions of linear regression\n",
    "    6.practical example on a data set '''"
   ]
  },
  {
   "cell_type": "code",
   "execution_count": 8,
   "metadata": {},
   "outputs": [
    {
     "data": {
      "text/plain": [
       "'Regression Analysis : is a statistical technique that is very useful in cause an effect manner.\\n    for eg: Effect of temperature on humidity\\n            In distillations process amount of hydrocarbon level on purity depends on water\\n            Effect of height on weight '"
      ]
     },
     "execution_count": 8,
     "metadata": {},
     "output_type": "execute_result"
    }
   ],
   "source": [
    "'''Regression Analysis : is a statistical technique that is very useful in cause an effect manner.\n",
    "    for eg: Effect of temperature on humidity\n",
    "            In distillations process amount of hydrocarbon level on purity depends on water\n",
    "            Effect of height on weight '''"
   ]
  },
  {
   "cell_type": "code",
   "execution_count": 9,
   "metadata": {},
   "outputs": [
    {
     "data": {
      "text/plain": [
       "'Feature Matrix : X in machine learning and target is y\\n    The equation which describes how \"y\" is related to \"X\"\\n    is their any effect of tv adds on cars sales.'"
      ]
     },
     "execution_count": 9,
     "metadata": {},
     "output_type": "execute_result"
    }
   ],
   "source": [
    "'''Feature Matrix : X in machine learning and target is y\n",
    "    The equation which describes how \"y\" is related to \"X\"\n",
    "    is their any effect of tv adds on cars sales.'''\n"
   ]
  },
  {
   "cell_type": "code",
   "execution_count": 10,
   "metadata": {},
   "outputs": [],
   "source": [
    "# https://medium.com/analytics-vidhya/assumptions-of-linear-regression-d4c42567aa1b"
   ]
  },
  {
   "cell_type": "code",
   "execution_count": null,
   "metadata": {},
   "outputs": [],
   "source": []
  }
 ],
 "metadata": {
  "kernelspec": {
   "display_name": "Python 3",
   "language": "python",
   "name": "python3"
  },
  "language_info": {
   "codemirror_mode": {
    "name": "ipython",
    "version": 3
   },
   "file_extension": ".py",
   "mimetype": "text/x-python",
   "name": "python",
   "nbconvert_exporter": "python",
   "pygments_lexer": "ipython3",
   "version": "3.7.4"
  }
 },
 "nbformat": 4,
 "nbformat_minor": 4
}
